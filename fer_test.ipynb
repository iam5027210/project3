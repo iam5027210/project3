{
 "cells": [
  {
   "cell_type": "code",
   "execution_count": 2,
   "metadata": {},
   "outputs": [
    {
     "name": "stderr",
     "output_type": "stream",
     "text": [
      "WARNING:absl:Compiled the loaded model, but the compiled metrics have yet to be built. `model.compile_metrics` will be empty until you train or evaluate the model.\n"
     ]
    }
   ],
   "source": [
    "from keras.models import load_model\n",
    "\n",
    "# ✅ 기존 HDF5(.h5) 모델 로드\n",
    "model = load_model(\"models/final_vggface_wgtImgNet_finetune_0228.h5_e10.h5\")\n",
    "\n",
    "# ✅ Keras 3.x와 호환되는 `.keras` 포맷으로 변환 (include_optimizer=True 추가)\n",
    "model.save(\"models/final_vggface_wgtImgNet_finetune_0228.h5_e10.keras\", include_optimizer=True)\n",
    "\n",
    "\n"
   ]
  },
  {
   "cell_type": "code",
   "execution_count": 4,
   "metadata": {},
   "outputs": [
    {
     "name": "stderr",
     "output_type": "stream",
     "text": [
      "WARNING:absl:Compiled the loaded model, but the compiled metrics have yet to be built. `model.compile_metrics` will be empty until you train or evaluate the model.\n"
     ]
    }
   ],
   "source": [
    "from keras.models import load_model\n",
    "from keras.optimizers import Adam\n",
    "\n",
    "# ✅ 기존 HDF5(.h5) 모델 로드\n",
    "model = load_model(\"models/final_vggface_wgtImgNet_finetune_0228.h5_e10.h5\")\n",
    "\n",
    "# ✅ 모델을 강제로 다시 컴파일 후 저장\n",
    "model.compile(\n",
    "    optimizer=Adam(learning_rate=0.0001),\n",
    "    loss=\"categorical_crossentropy\",\n",
    "    metrics=[\"accuracy\"]\n",
    ")\n",
    "\n",
    "# ✅ Keras 3.x 호환 `.keras` 포맷으로 저장 (include_optimizer=True 추가)\n",
    "model.save(\"models/final_vggface_wgtImgNet_finetune_0228.h5_e10.keras\", include_optimizer=True)"
   ]
  },
  {
   "cell_type": "code",
   "execution_count": null,
   "metadata": {},
   "outputs": [],
   "source": []
  }
 ],
 "metadata": {
  "kernelspec": {
   "display_name": "deepface_env",
   "language": "python",
   "name": "python3"
  },
  "language_info": {
   "codemirror_mode": {
    "name": "ipython",
    "version": 3
   },
   "file_extension": ".py",
   "mimetype": "text/x-python",
   "name": "python",
   "nbconvert_exporter": "python",
   "pygments_lexer": "ipython3",
   "version": "3.9.21"
  }
 },
 "nbformat": 4,
 "nbformat_minor": 2
}
